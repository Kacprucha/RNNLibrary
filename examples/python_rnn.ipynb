{
 "cells": [
  {
   "cell_type": "code",
   "execution_count": null,
   "id": "52427675",
   "metadata": {},
   "outputs": [],
   "source": [
    "import psutil\n",
    "import os\n",
    "import json\n",
    "import numpy as np\n",
    "import tensorflow as tf\n",
    "from tensorflow.keras.models import Sequential\n",
    "from tensorflow.keras.layers import Embedding, SimpleRNN, Dense , Flatten \n",
    "from tensorflow.keras.preprocessing.sequence import pad_sequences\n",
    "from tensorflow.keras.optimizers import RMSprop\n",
    "import time\n",
    "import random\n",
    "\n",
    "# --- Configuration & Seeding ---\n",
    "random.seed(0)\n",
    "np.random.seed(0)\n",
    "tf.random.set_seed(0)\n",
    "\n",
    "JSON_FILE_PATH = \"imdb_dataset_prepared.json\"\n",
    "MAX_SEQUENCE_LENGTH = 250\n",
    "EMBEDDING_TRAINABLE = True\n",
    "BATCH_SIZE = 128\n",
    "EPOCHS = 12"
   ]
  },
  {
   "cell_type": "code",
   "execution_count": null,
   "id": "0bd6f179",
   "metadata": {},
   "outputs": [],
   "source": [
    "# Function to get current process memory\n",
    "def get_process_memory():\n",
    "    process = psutil.Process(os.getpid())\n",
    "    mem_info = process.memory_info()\n",
    "    return mem_info.rss  \n",
    "\n",
    "# Custom callback to monitor memory\n",
    "class MemoryCallback(tf.keras.callbacks.Callback):\n",
    "\n",
    "    def on_epoch_end(self, epoch, logs=None):\n",
    "        if epoch + 1 == EPOCHS:\n",
    "            print(f\"\\tEpoch {epoch+1}: End memory usage: {get_process_memory() / (1024**2):.2f} MB\")"
   ]
  },
  {
   "cell_type": "code",
   "execution_count": 8,
   "id": "48c48cd3",
   "metadata": {},
   "outputs": [],
   "source": [
    "with open(JSON_FILE_PATH, 'r') as f:\n",
    "    data = json.load(f)\n",
    "\n",
    "X_train = np.array(data['X_train'])\n",
    "y_train = np.array(data['y_train'])\n",
    "X_test = np.array(data['X_test'])\n",
    "y_test = np.array(data['y_test'])\n",
    "\n",
    "X_train -= 1\n",
    "X_test -= 1\n",
    "\n",
    "embeddings = np.array(data['embeddings'])\n",
    "vocab = data['vocab']\n",
    "embedding_dim = embeddings.shape[1]"
   ]
  },
  {
   "cell_type": "code",
   "execution_count": 9,
   "id": "4f7737da",
   "metadata": {},
   "outputs": [
    {
     "name": "stdout",
     "output_type": "stream",
     "text": [
      "Initial memory usage: 758.43 MB\n"
     ]
    },
    {
     "data": {
      "text/html": [
       "<pre style=\"white-space:pre;overflow-x:auto;line-height:normal;font-family:Menlo,'DejaVu Sans Mono',consolas,'Courier New',monospace\"><span style=\"font-weight: bold\">Model: \"sequential_1\"</span>\n",
       "</pre>\n"
      ],
      "text/plain": [
       "\u001b[1mModel: \"sequential_1\"\u001b[0m\n"
      ]
     },
     "metadata": {},
     "output_type": "display_data"
    },
    {
     "data": {
      "text/html": [
       "<pre style=\"white-space:pre;overflow-x:auto;line-height:normal;font-family:Menlo,'DejaVu Sans Mono',consolas,'Courier New',monospace\">┏━━━━━━━━━━━━━━━━━━━━━━━━━━━━━━━━━┳━━━━━━━━━━━━━━━━━━━━━━━━┳━━━━━━━━━━━━━━━┓\n",
       "┃<span style=\"font-weight: bold\"> Layer (type)                    </span>┃<span style=\"font-weight: bold\"> Output Shape           </span>┃<span style=\"font-weight: bold\">       Param # </span>┃\n",
       "┡━━━━━━━━━━━━━━━━━━━━━━━━━━━━━━━━━╇━━━━━━━━━━━━━━━━━━━━━━━━╇━━━━━━━━━━━━━━━┩\n",
       "│ embedding_1 (<span style=\"color: #0087ff; text-decoration-color: #0087ff\">Embedding</span>)         │ ?                      │       <span style=\"color: #00af00; text-decoration-color: #00af00\">642,450</span> │\n",
       "├─────────────────────────────────┼────────────────────────┼───────────────┤\n",
       "│ simple_rnn_1 (<span style=\"color: #0087ff; text-decoration-color: #0087ff\">SimpleRNN</span>)        │ ?                      │   <span style=\"color: #00af00; text-decoration-color: #00af00\">0</span> (unbuilt) │\n",
       "├─────────────────────────────────┼────────────────────────┼───────────────┤\n",
       "│ dense_1 (<span style=\"color: #0087ff; text-decoration-color: #0087ff\">Dense</span>)                 │ ?                      │   <span style=\"color: #00af00; text-decoration-color: #00af00\">0</span> (unbuilt) │\n",
       "└─────────────────────────────────┴────────────────────────┴───────────────┘\n",
       "</pre>\n"
      ],
      "text/plain": [
       "┏━━━━━━━━━━━━━━━━━━━━━━━━━━━━━━━━━┳━━━━━━━━━━━━━━━━━━━━━━━━┳━━━━━━━━━━━━━━━┓\n",
       "┃\u001b[1m \u001b[0m\u001b[1mLayer (type)                   \u001b[0m\u001b[1m \u001b[0m┃\u001b[1m \u001b[0m\u001b[1mOutput Shape          \u001b[0m\u001b[1m \u001b[0m┃\u001b[1m \u001b[0m\u001b[1m      Param #\u001b[0m\u001b[1m \u001b[0m┃\n",
       "┡━━━━━━━━━━━━━━━━━━━━━━━━━━━━━━━━━╇━━━━━━━━━━━━━━━━━━━━━━━━╇━━━━━━━━━━━━━━━┩\n",
       "│ embedding_1 (\u001b[38;5;33mEmbedding\u001b[0m)         │ ?                      │       \u001b[38;5;34m642,450\u001b[0m │\n",
       "├─────────────────────────────────┼────────────────────────┼───────────────┤\n",
       "│ simple_rnn_1 (\u001b[38;5;33mSimpleRNN\u001b[0m)        │ ?                      │   \u001b[38;5;34m0\u001b[0m (unbuilt) │\n",
       "├─────────────────────────────────┼────────────────────────┼───────────────┤\n",
       "│ dense_1 (\u001b[38;5;33mDense\u001b[0m)                 │ ?                      │   \u001b[38;5;34m0\u001b[0m (unbuilt) │\n",
       "└─────────────────────────────────┴────────────────────────┴───────────────┘\n"
      ]
     },
     "metadata": {},
     "output_type": "display_data"
    },
    {
     "data": {
      "text/html": [
       "<pre style=\"white-space:pre;overflow-x:auto;line-height:normal;font-family:Menlo,'DejaVu Sans Mono',consolas,'Courier New',monospace\"><span style=\"font-weight: bold\"> Total params: </span><span style=\"color: #00af00; text-decoration-color: #00af00\">642,450</span> (2.45 MB)\n",
       "</pre>\n"
      ],
      "text/plain": [
       "\u001b[1m Total params: \u001b[0m\u001b[38;5;34m642,450\u001b[0m (2.45 MB)\n"
      ]
     },
     "metadata": {},
     "output_type": "display_data"
    },
    {
     "data": {
      "text/html": [
       "<pre style=\"white-space:pre;overflow-x:auto;line-height:normal;font-family:Menlo,'DejaVu Sans Mono',consolas,'Courier New',monospace\"><span style=\"font-weight: bold\"> Trainable params: </span><span style=\"color: #00af00; text-decoration-color: #00af00\">642,450</span> (2.45 MB)\n",
       "</pre>\n"
      ],
      "text/plain": [
       "\u001b[1m Trainable params: \u001b[0m\u001b[38;5;34m642,450\u001b[0m (2.45 MB)\n"
      ]
     },
     "metadata": {},
     "output_type": "display_data"
    },
    {
     "data": {
      "text/html": [
       "<pre style=\"white-space:pre;overflow-x:auto;line-height:normal;font-family:Menlo,'DejaVu Sans Mono',consolas,'Courier New',monospace\"><span style=\"font-weight: bold\"> Non-trainable params: </span><span style=\"color: #00af00; text-decoration-color: #00af00\">0</span> (0.00 B)\n",
       "</pre>\n"
      ],
      "text/plain": [
       "\u001b[1m Non-trainable params: \u001b[0m\u001b[38;5;34m0\u001b[0m (0.00 B)\n"
      ]
     },
     "metadata": {},
     "output_type": "display_data"
    },
    {
     "name": "stdout",
     "output_type": "stream",
     "text": [
      "Memory after model compilation: 760.99 MB\n"
     ]
    }
   ],
   "source": [
    "print(f\"Initial memory usage: {get_process_memory() / (1024**2):.2f} MB\")\n",
    "\n",
    "model = Sequential()\n",
    "model.add(Embedding(len(vocab), embedding_dim, weights=[embeddings]))\n",
    "model.add(SimpleRNN(16, 'relu'))\n",
    "model.add(Dense(1, activation='sigmoid'))\n",
    "model.compile(optimizer='rmsprop', loss='binary_crossentropy', metrics=['accuracy'])\n",
    "model.summary()\n",
    "\n",
    "print(f\"Memory after model compilation: {get_process_memory() / (1024**2):.2f} MB\")"
   ]
  },
  {
   "cell_type": "code",
   "execution_count": 10,
   "id": "69fe7706",
   "metadata": {},
   "outputs": [
    {
     "name": "stdout",
     "output_type": "stream",
     "text": [
      "\n",
      "Training for 12 epochs with batch size 128...\n",
      "\tEpoch 12: End memory usage: 856.93 MB\n",
      "Training completed in 202.77s\n",
      "Final memory usage: 806.91 MB\n",
      "\n",
      "--- Training History ---\n",
      "Epoch: 1/12 (16.90s approx.) \tTrain: (l: 0.70, a: 0.51) \tTest: (l: 0.69, a: 0.50)\n",
      "Epoch: 2/12 (16.90s approx.) \tTrain: (l: 0.69, a: 0.52) \tTest: (l: 0.69, a: 0.51)\n",
      "Epoch: 3/12 (16.90s approx.) \tTrain: (l: 0.69, a: 0.53) \tTest: (l: 0.69, a: 0.52)\n",
      "Epoch: 4/12 (16.90s approx.) \tTrain: (l: 0.68, a: 0.55) \tTest: (l: 0.67, a: 0.57)\n",
      "Epoch: 5/12 (16.90s approx.) \tTrain: (l: 0.62, a: 0.68) \tTest: (l: 0.60, a: 0.71)\n",
      "Epoch: 6/12 (16.90s approx.) \tTrain: (l: 0.56, a: 0.73) \tTest: (l: 0.52, a: 0.75)\n",
      "Epoch: 7/12 (16.90s approx.) \tTrain: (l: 0.53, a: 0.76) \tTest: (l: 0.54, a: 0.76)\n",
      "Epoch: 8/12 (16.90s approx.) \tTrain: (l: 0.50, a: 0.78) \tTest: (l: 0.46, a: 0.78)\n",
      "Epoch: 9/12 (16.90s approx.) \tTrain: (l: 0.47, a: 0.80) \tTest: (l: 0.42, a: 0.81)\n",
      "Epoch: 10/12 (16.90s approx.) \tTrain: (l: 0.43, a: 0.81) \tTest: (l: 0.43, a: 0.78)\n",
      "Epoch: 11/12 (16.90s approx.) \tTrain: (l: 0.41, a: 0.82) \tTest: (l: 0.56, a: 0.83)\n",
      "Epoch: 12/12 (16.90s approx.) \tTrain: (l: 0.40, a: 0.83) \tTest: (l: 0.49, a: 0.83)\n",
      "\n",
      "--- Final Evaluation on Test Set ---\n",
      "Test Loss: 0.4891\n",
      "Test Accuracy: 0.8328\n"
     ]
    }
   ],
   "source": [
    "print(f\"\\nTraining for {EPOCHS} epochs with batch size {BATCH_SIZE}...\")\n",
    "start_time_train = time.time()\n",
    "history = model.fit(X_train, y_train,\n",
    "                    epochs=EPOCHS,\n",
    "                    batch_size=BATCH_SIZE,\n",
    "                    validation_data=(X_test, y_test),\n",
    "                    shuffle=True,\n",
    "                    verbose=0,\n",
    "                    callbacks=[MemoryCallback()])\n",
    "training_time = time.time() - start_time_train\n",
    "print(f\"Training completed in {training_time:.2f}s\")\n",
    "print(f\"Final memory usage: {get_process_memory() / (1024**2):.2f} MB\")\n",
    "\n",
    "print(\"\\n--- Training History ---\")\n",
    "for epoch in range(EPOCHS):\n",
    "    train_loss = history.history['loss'][epoch]\n",
    "    train_acc = history.history['accuracy'][epoch]\n",
    "    val_loss = history.history['val_loss'][epoch]\n",
    "    val_acc = history.history['val_accuracy'][epoch]\n",
    "    time_per_epoch_approx = training_time / EPOCHS\n",
    "    print(f\"Epoch: {epoch+1}/{EPOCHS} ({time_per_epoch_approx:.2f}s approx.) \"\n",
    "          f\"\\tTrain: (l: {train_loss:.2f}, a: {train_acc:.2f}) \"\n",
    "          f\"\\tTest: (l: {val_loss:.2f}, a: {val_acc:.2f})\")\n",
    "\n",
    "print(\"\\n--- Final Evaluation on Test Set ---\")\n",
    "final_loss, final_accuracy = model.evaluate(X_test, y_test, verbose=0)\n",
    "print(f\"Test Loss: {final_loss:.4f}\")\n",
    "print(f\"Test Accuracy: {final_accuracy:.4f}\")"
   ]
  }
 ],
 "metadata": {
  "kernelspec": {
   "display_name": "tf_env",
   "language": "python",
   "name": "python3"
  },
  "language_info": {
   "codemirror_mode": {
    "name": "ipython",
    "version": 3
   },
   "file_extension": ".py",
   "mimetype": "text/x-python",
   "name": "python",
   "nbconvert_exporter": "python",
   "pygments_lexer": "ipython3",
   "version": "3.11.9"
  }
 },
 "nbformat": 4,
 "nbformat_minor": 5
}
