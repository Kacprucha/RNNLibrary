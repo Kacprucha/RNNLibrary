{
 "cells": [
  {
   "cell_type": "code",
   "execution_count": 1,
   "metadata": {},
   "outputs": [
    {
     "data": {
      "text/plain": [
       "Sigmoid (generic function with 3 methods)"
      ]
     },
     "metadata": {},
     "output_type": "display_data"
    }
   ],
   "source": [
    "using JLD2        \n",
    "include(\"../src/networkFunctions.jl\")\n",
    "include(\"../src/ADLibrary/functions.jl\")"
   ]
  },
  {
   "cell_type": "code",
   "execution_count": 2,
   "metadata": {},
   "outputs": [],
   "source": [
    "X_train = load(\"data_rnn/imdb_dataset_prepared.jld2\", \"X_train\")\n",
    "y_train = load(\"data_rnn/imdb_dataset_prepared.jld2\", \"y_train\")\n",
    "y_train = Float32.(y_train)\n",
    "X_test = load(\"data_rnn/imdb_dataset_prepared.jld2\", \"X_test\")\n",
    "y_test = load(\"data_rnn/imdb_dataset_prepared.jld2\", \"y_test\")\n",
    "y_test  = Float32.(y_test)\n",
    "embeddings = load(\"data_rnn/imdb_dataset_prepared.jld2\", \"embeddings\")\n",
    "vocab = load(\"data_rnn/imdb_dataset_prepared.jld2\", \"vocab\")\n",
    "\n",
    "nothing"
   ]
  },
  {
   "cell_type": "code",
   "execution_count": 3,
   "metadata": {},
   "outputs": [],
   "source": [
    "# --- Model Definition ---\n",
    "\n",
    "loss_fun(y_pred, y_true) = -mean(y_true .* log.(y_pred .+ 1e-7) .+ (1 .- y_true) .* log.(1 .- y_pred .+ 1e-7))\n",
    "\n",
    "vocab_size = length(vocab)\n",
    "embedding_dim = size(embeddings,1);\n",
    "hidden_size = 16\n",
    "\n",
    "model = Sequential([\n",
    "  Embedding(vocab_size, embedding_dim),\n",
    "  SimpleRNN(embedding_dim, hidden_size, ReLU), \n",
    "  SelectLastTimestep(),\n",
    "  Flatten(), \n",
    "  Dense(hidden_size, 1, Sigmoid)\n",
    "])\n",
    "\n",
    "nothing"
   ]
  },
  {
   "cell_type": "code",
   "execution_count": 4,
   "metadata": {},
   "outputs": [
    {
     "name": "stdout",
     "output_type": "stream",
     "text": [
      "Epoch 1 ▶ Train Loss=0.6904, Train Acc=51.77%\t│   Test Loss=0.6923, Test Acc=50.13%\t|   Time=20.16\n",
      "Epoch 2 ▶ Train Loss=0.6629, Train Acc=59.14%\t│   Test Loss=0.6509, Test Acc=59.58%\t|   Time=9.94\n",
      "Epoch 3 ▶ Train Loss=0.5784, Train Acc=74.41%\t│   Test Loss=0.575, Test Acc=73.63%\t|   Time=9.62\n",
      "Epoch 4 ▶ Train Loss=0.4835, Train Acc=80.03%\t│   Test Loss=0.487, Test Acc=80.74%\t|   Time=10.43\n",
      "Epoch 5 ▶ Train Loss=0.4264, Train Acc=83.4%\t│   Test Loss=0.4763, Test Acc=81.17%\t|   Time=11.56\n",
      "Epoch 6 ▶ Train Loss=0.414, Train Acc=83.39%\t│   Test Loss=0.4765, Test Acc=81.24%\t|   Time=11.51\n",
      "Epoch 7 ▶ Train Loss=0.3549, Train Acc=86.01%\t│   Test Loss=0.419, Test Acc=84.14%\t|   Time=11.3\n",
      "Epoch 8 ▶ Train Loss=0.308, Train Acc=88.38%\t│   Test Loss=0.4116, Test Acc=84.66%\t|   Time=11.5\n",
      "Epoch 9 ▶ Train Loss=0.2616, Train Acc=90.05%\t│   Test Loss=0.403, Test Acc=83.84%\t|   Time=11.38\n",
      "Epoch 10 ▶ Train Loss=0.2425, Train Acc=90.35%\t│   Test Loss=0.4607, Test Acc=85.49%\t|   Time=11.51\n",
      "Epoch 11 ▶ Train Loss=0.2226, Train Acc=91.18%\t│   Test Loss=0.3864, Test Acc=85.82%\t|   Time=11.0\n",
      "Epoch 12 ▶ Train Loss=0.1999, Train Acc=91.95%\t│   Test Loss=0.3919, Test Acc=85.94%\t|   Time=11.34\n"
     ]
    }
   ],
   "source": [
    "train!(model, loss_fun, X_train, y_train, X_test, y_test; epochs=12, lr=0.001, batchsize=128, optimizer=:Adam)"
   ]
  }
 ],
 "metadata": {
  "kernelspec": {
   "display_name": "Julia 1.11.3",
   "language": "julia",
   "name": "julia-1.11"
  },
  "language_info": {
   "file_extension": ".jl",
   "mimetype": "application/julia",
   "name": "julia",
   "version": "1.11.3"
  }
 },
 "nbformat": 4,
 "nbformat_minor": 2
}
